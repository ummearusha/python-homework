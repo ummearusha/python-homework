{
 "cells": [
  {
   "cell_type": "code",
   "execution_count": null,
   "metadata": {},
   "outputs": [],
   "source": []
  },
  {
   "cell_type": "code",
   "execution_count": 2,
   "metadata": {},
   "outputs": [
    {
     "name": "stdout",
     "output_type": "stream",
     "text": [
      "Total Months : 86\n",
      "Total  : $38382578\n",
      "The average of the changes in Profit/Losses:446309.0465116279\n",
      "Max profit  : $Feb-2012 : $1170593\n",
      "Max loss  : $Sep-2013 : $-1196225\n"
     ]
    }
   ],
   "source": [
    "# Import the pathlib and csv library\n",
    "from pathlib import Path\n",
    "import csv\n",
    "\n",
    "\n",
    "# Set the file path\n",
    "csvpath = Path('./Resources/budget_data.csv')\n",
    "\n",
    "# Initialize variable to hold months\n",
    "total_numberof_months = 0\n",
    "\n",
    "#Initialize variable to hold profit/losses\n",
    "total_profit_loss = 0\n",
    "\n",
    "# Initialize line_num variable\n",
    "line_num = 0\n",
    "\n",
    "# Open the input path as a file object\n",
    "with open(csvpath, 'r') as csvfile:\n",
    "\n",
    "    # Pass in the csv file to the csv.reader() function\n",
    "    # (with ',' as the delmiter/separator) and return the csvreader object\n",
    "    \n",
    "    csvreader = csv.reader(csvfile, delimiter=',')\n",
    "    \n",
    "    # Go to the next row from the start of the file\n",
    "    # (which is often the first row/header) and iterate line_num by 1\n",
    "    \n",
    "    header = next(csvreader)\n",
    "    max_profit = 0\n",
    "    max_profit_month = \"\"\n",
    "    max_losses_month = \"\"\n",
    "    max_loss = 0\n",
    "    \n",
    "    for row in csvreader:\n",
    "        total_numberof_months += 1\n",
    "        month = row[0] # initialization variable month and assigning  the value/colname Date \n",
    "        profit_loss = int(row[1]) # initialization variable profit/losses the value which is profit/losses\n",
    "        total_profit_loss += profit_loss\n",
    "    #The average of the changes in Profit/Losses over the entire period.\n",
    "    \n",
    "        average = total_profit_loss / total_numberof_months\n",
    "        \n",
    "    \n",
    "    #The greatest increase in profits (date and amount) over the entire period.    \n",
    "        if profit_loss > max_profit:\n",
    "            max_profit = profit_loss\n",
    "            max_profit_month = month\n",
    "            \n",
    "   # The greatest decrease in losses (date and amount) over the entire period.\n",
    "        if profit_loss < max_loss:\n",
    "            max_loss = profit_loss\n",
    "            max_losses_month = month\n",
    "            \n",
    "    print (f\"Total Months : {total_numberof_months}\")\n",
    "    print (f\"Total  : ${total_profit_loss}\")\n",
    "    print(f\"The average of the changes in Profit/Losses:{average}\")\n",
    "    print (f\"Max profit  : ${max_profit_month} : ${max_profit}\")\n",
    "    print (f\"Max loss  : ${max_losses_month} : ${max_loss}\")\n",
    "   "
   ]
  },
  {
   "cell_type": "code",
   "execution_count": null,
   "metadata": {},
   "outputs": [],
   "source": []
  },
  {
   "cell_type": "code",
   "execution_count": null,
   "metadata": {},
   "outputs": [],
   "source": []
  }
 ],
 "metadata": {
  "kernelspec": {
   "display_name": "Python 3",
   "language": "python",
   "name": "python3"
  },
  "language_info": {
   "codemirror_mode": {
    "name": "ipython",
    "version": 3
   },
   "file_extension": ".py",
   "mimetype": "text/x-python",
   "name": "python",
   "nbconvert_exporter": "python",
   "pygments_lexer": "ipython3",
   "version": "3.8.3"
  }
 },
 "nbformat": 4,
 "nbformat_minor": 4
}
